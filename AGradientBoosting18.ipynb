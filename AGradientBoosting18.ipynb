{
  "nbformat": 4,
  "nbformat_minor": 0,
  "metadata": {
    "colab": {
      "name": "AGradientBoosting18.ipynb",
      "version": "0.3.2",
      "provenance": [],
      "collapsed_sections": [],
      "include_colab_link": true
    },
    "kernelspec": {
      "name": "python3",
      "display_name": "Python 3"
    },
    "accelerator": "GPU"
  },
  "cells": [
    {
      "cell_type": "markdown",
      "metadata": {
        "id": "view-in-github",
        "colab_type": "text"
      },
      "source": [
        "<a href=\"https://colab.research.google.com/github/m-aliabbas/Pneumonia-Train-Models-/blob/master/AGradientBoosting18.ipynb\" target=\"_parent\"><img src=\"https://colab.research.google.com/assets/colab-badge.svg\" alt=\"Open In Colab\"/></a>"
      ]
    },
    {
      "cell_type": "markdown",
      "metadata": {
        "id": "wZ2qHEIHqOKS",
        "colab_type": "text"
      },
      "source": [
        "# Loading and Preprocessing Data"
      ]
    },
    {
      "cell_type": "code",
      "metadata": {
        "id": "1qBVybnmuWHi",
        "colab_type": "code",
        "outputId": "570d0c0b-80c7-4c3d-c147-8b725724504a",
        "colab": {
          "base_uri": "https://localhost:8080/",
          "height": 34
        }
      },
      "source": [
        "# Load the Drive helper and mount\n",
        "from google.colab import drive\n",
        "\n",
        "# This will prompt for authorization.\n",
        "drive.mount('/content/drive')"
      ],
      "execution_count": 2,
      "outputs": [
        {
          "output_type": "stream",
          "text": [
            "Drive already mounted at /content/drive; to attempt to forcibly remount, call drive.mount(\"/content/drive\", force_remount=True).\n"
          ],
          "name": "stdout"
        }
      ]
    },
    {
      "cell_type": "code",
      "metadata": {
        "id": "nJadp5X2wF15",
        "colab_type": "code",
        "outputId": "18d9e1a6-0704-43da-d415-161df84a5c0b",
        "colab": {
          "base_uri": "https://localhost:8080/",
          "height": 34
        }
      },
      "source": [
        "!ls '/content/drive/My Drive/PreTrainModels/'"
      ],
      "execution_count": 3,
      "outputs": [
        {
          "output_type": "stream",
          "text": [
            "dataset123.csv\tdatasetRes34.csv\n"
          ],
          "name": "stdout"
        }
      ]
    },
    {
      "cell_type": "code",
      "metadata": {
        "id": "0NH-2YjdJLNB",
        "colab_type": "code",
        "colab": {}
      },
      "source": [
        "import numpy as np\n",
        "import matplotlib.pyplot as plt\n",
        "import pandas as pd\n",
        "# Importing the dataset\n",
        "\n"
      ],
      "execution_count": 0,
      "outputs": []
    },
    {
      "cell_type": "code",
      "metadata": {
        "id": "RO9gbhYOKA8W",
        "colab_type": "code",
        "outputId": "21e85ee5-0b43-4366-f548-92fe62685b05",
        "colab": {
          "base_uri": "https://localhost:8080/",
          "height": 34
        }
      },
      "source": [
        "dataset = pd.read_csv('/content/drive/My Drive/PreTrainModels/dataset123.csv')\n",
        "dataset.shape"
      ],
      "execution_count": 5,
      "outputs": [
        {
          "output_type": "execute_result",
          "data": {
            "text/plain": [
              "(3680, 513)"
            ]
          },
          "metadata": {
            "tags": []
          },
          "execution_count": 5
        }
      ]
    },
    {
      "cell_type": "markdown",
      "metadata": {
        "id": "qvVWjDZ3qX5E",
        "colab_type": "text"
      },
      "source": [
        "#Split into Train , Validation and Test Sets"
      ]
    },
    {
      "cell_type": "code",
      "metadata": {
        "id": "VYAJoivhJcdJ",
        "colab_type": "code",
        "colab": {}
      },
      "source": [
        "from sklearn.model_selection import train_test_split\n",
        "dftrain,dftest= train_test_split(dataset, test_size=0.1, random_state=42)"
      ],
      "execution_count": 0,
      "outputs": []
    },
    {
      "cell_type": "code",
      "metadata": {
        "id": "Mihv9RMqz5De",
        "colab_type": "code",
        "colab": {}
      },
      "source": [
        "dftrain,dfvalid= train_test_split(dftrain, test_size=0.2, random_state=42)"
      ],
      "execution_count": 0,
      "outputs": []
    },
    {
      "cell_type": "markdown",
      "metadata": {
        "id": "1R5g2Hblqe6E",
        "colab_type": "text"
      },
      "source": [
        "Getting Features Name"
      ]
    },
    {
      "cell_type": "code",
      "metadata": {
        "id": "LZB5c63dLhHb",
        "colab_type": "code",
        "colab": {}
      },
      "source": [
        "featureCol=[]\n",
        "for i in range(512):\n",
        "    featureCol+=[str(i)]"
      ],
      "execution_count": 0,
      "outputs": []
    },
    {
      "cell_type": "code",
      "metadata": {
        "id": "uCdd6YcM0Ljo",
        "colab_type": "code",
        "outputId": "fe875fc6-d03d-4ff3-b581-55bd14b06d33",
        "colab": {
          "base_uri": "https://localhost:8080/",
          "height": 34
        }
      },
      "source": [
        "dftrain.shape,dfvalid.shape,dftest.shape"
      ],
      "execution_count": 9,
      "outputs": [
        {
          "output_type": "execute_result",
          "data": {
            "text/plain": [
              "((2649, 513), (663, 513), (368, 513))"
            ]
          },
          "metadata": {
            "tags": []
          },
          "execution_count": 9
        }
      ]
    },
    {
      "cell_type": "code",
      "metadata": {
        "id": "eV09g6UPqilP",
        "colab_type": "code",
        "colab": {}
      },
      "source": [
        ""
      ],
      "execution_count": 0,
      "outputs": []
    },
    {
      "cell_type": "markdown",
      "metadata": {
        "id": "zuRIXDfiqnWi",
        "colab_type": "text"
      },
      "source": [
        "Ploting Historgram of Data in sets"
      ]
    },
    {
      "cell_type": "code",
      "metadata": {
        "id": "1MTjAd3S0aFI",
        "colab_type": "code",
        "outputId": "45681b79-5194-450a-b45e-0c71181adbde",
        "colab": {
          "base_uri": "https://localhost:8080/",
          "height": 286
        }
      },
      "source": [
        "dftrain['label'].hist()\n",
        "\n",
        "dfvalid['label'].hist()\n",
        "dftest['label'].hist()"
      ],
      "execution_count": 10,
      "outputs": [
        {
          "output_type": "execute_result",
          "data": {
            "text/plain": [
              "<matplotlib.axes._subplots.AxesSubplot at 0x7f172b384978>"
            ]
          },
          "metadata": {
            "tags": []
          },
          "execution_count": 10
        },
        {
          "output_type": "display_data",
          "data": {
            "image/png": "[encoded data removed]",
            "text/plain": [
              "<Figure size 432x288 with 1 Axes>"
            ]
          },
          "metadata": {
            "tags": []
          }
        }
      ]
    },
    {
      "cell_type": "code",
      "metadata": {
        "id": "AiRT_RyoM3-j",
        "colab_type": "code",
        "colab": {}
      },
      "source": [
        "featureCol+=['label']"
      ],
      "execution_count": 0,
      "outputs": []
    },
    {
      "cell_type": "code",
      "metadata": {
        "id": "Mnw0n3CXNGN6",
        "colab_type": "code",
        "colab": {}
      },
      "source": [
        "testCol=featureCol[:512]"
      ],
      "execution_count": 0,
      "outputs": []
    },
    {
      "cell_type": "code",
      "metadata": {
        "id": "_lsgPaDUNP9w",
        "colab_type": "code",
        "outputId": "1bc1a039-f6b5-485f-da2c-7f0812ef0176",
        "colab": {
          "base_uri": "https://localhost:8080/",
          "height": 34
        }
      },
      "source": [
        "len(testCol)"
      ],
      "execution_count": 13,
      "outputs": [
        {
          "output_type": "execute_result",
          "data": {
            "text/plain": [
              "512"
            ]
          },
          "metadata": {
            "tags": []
          },
          "execution_count": 13
        }
      ]
    },
    {
      "cell_type": "markdown",
      "metadata": {
        "id": "ocK87Gcrqrnv",
        "colab_type": "text"
      },
      "source": [
        "Initalization of sets according to LightGB . it is optional"
      ]
    },
    {
      "cell_type": "code",
      "metadata": {
        "id": "yDxEIbSxN8VV",
        "colab_type": "code",
        "colab": {}
      },
      "source": [
        "import lightgbm as lgb\n",
        "import gc\n",
        "gc.collect()\n",
        "\n",
        "dtrain = lgb.Dataset(dftrain[featureCol[:512]].values, label=dftrain['label'].values,\n",
        "                      feature_name=featureCol[:512]\n",
        "                      )\n",
        "dvalid = lgb.Dataset(dfvalid[featureCol[:512]].values, label=dftest['label'].values,\n",
        "                      feature_name=featureCol[:512],\n",
        "                      )"
      ],
      "execution_count": 0,
      "outputs": []
    },
    {
      "cell_type": "markdown",
      "metadata": {
        "id": "Vo5dTDysqzqp",
        "colab_type": "text"
      },
      "source": [
        "Initial Paramets"
      ]
    },
    {
      "cell_type": "markdown",
      "metadata": {
        "id": "xa4pXDWnrgba",
        "colab_type": "text"
      },
      "source": [
        "#Random Search for Hyperparamters Tuning"
      ]
    },
    {
      "cell_type": "markdown",
      "metadata": {
        "id": "CmkfCsnIq3KS",
        "colab_type": "text"
      },
      "source": [
        "Some Parameters are initalization as a population. On which we performs Random Search / Grid Search to Choose Optimal Hyperparameters"
      ]
    },
    {
      "cell_type": "code",
      "metadata": {
        "id": "L5v6HRU64Hqg",
        "colab_type": "code",
        "colab": {}
      },
      "source": [
        "# gridParams = {\n",
        "#     'learning_rate': [0.13,0.4,0.3,0.35,0.1,0.23,0.2,0.15],\n",
        "#     'n_estimators': [40,100,120,12,20,50,90,140,105],\n",
        "#     'num_leaves': [100,200,300,40,60,50,350,400],\n",
        "#     'boosting_type' : ['gbdt'],\n",
        "#     'objective' : ['binary'],\n",
        "#     'random_state' : [501], # Updated from 'seed'\n",
        "#     'colsample_bytree' : [0.65,0.9,0.7,0.85, 0.66,0.7,0.9],\n",
        "    \n",
        "    \n",
        "#     }"
      ],
      "execution_count": 0,
      "outputs": []
    },
    {
      "cell_type": "code",
      "metadata": {
        "id": "ETdvDE1mOvVk",
        "colab_type": "code",
        "colab": {}
      },
      "source": [
        "# mdl = lgb.LGBMClassifier(\n",
        "                        \n",
        "#                         )"
      ],
      "execution_count": 0,
      "outputs": []
    },
    {
      "cell_type": "code",
      "metadata": {
        "id": "1Xr7L8ek5K8I",
        "colab_type": "code",
        "colab": {}
      },
      "source": [
        "# mdl.get_params().keys()"
      ],
      "execution_count": 0,
      "outputs": []
    },
    {
      "cell_type": "markdown",
      "metadata": {
        "id": "eZ5delpcrHuG",
        "colab_type": "text"
      },
      "source": [
        "Random Search with 100 Iteration , it takes very large time so I am commiting the code beacause we get optimal values which are below"
      ]
    },
    {
      "cell_type": "code",
      "metadata": {
        "id": "E1G1gE4ArgBy",
        "colab_type": "code",
        "colab": {}
      },
      "source": [
        "from sklearn.metrics import f1_score\n",
        "def evaluate_macroF1_lgb(truth, predictions):  \n",
        "    f1 = f1_score(truth, np.round(predictions), average='binary')\n",
        "    return ('macroF1', f1, True) "
      ],
      "execution_count": 0,
      "outputs": []
    },
    {
      "cell_type": "code",
      "metadata": {
        "id": "YNPd1lKt5LAY",
        "colab_type": "code",
        "colab": {}
      },
      "source": [
        "# from sklearn.metrics import (roc_curve, auc, accuracy_score)\n",
        "# from sklearn.model_selection import GridSearchCV\n",
        "# from sklearn.model_selection import RandomizedSearchCV, GridSearchCV\n",
        "\n",
        "\n",
        "# gs = RandomizedSearchCV(\n",
        "#     estimator=mdl, param_distributions=gridParams, \n",
        "#     n_iter=100,\n",
        "#     scoring='f1_macro',\n",
        "#     cv=2,\n",
        "#     n_jobs=1,\n",
        "#     refit=True,\n",
        "#     random_state=314,\n",
        "#     verbose=True)"
      ],
      "execution_count": 0,
      "outputs": []
    },
    {
      "cell_type": "code",
      "metadata": {
        "id": "NwVhWf9UvwKS",
        "colab_type": "code",
        "colab": {}
      },
      "source": [
        "evals={}\n",
        "fit_params={\"early_stopping_rounds\":50, \n",
        "            \"eval_metric\" : evaluate_macroF1_lgb, \n",
        "            \"eval_set\" : [dfvalid],\n",
        "            'eval_names': ['valid'],\n",
        "            #'callbacks': [lgb.reset_parameter(learning_rate=learning_rate_010_decay_power_099)],\n",
        "            'verbose': 100,\n",
        "            'categorical_feature': 'auto'}"
      ],
      "execution_count": 0,
      "outputs": []
    },
    {
      "cell_type": "code",
      "metadata": {
        "id": "k57hQoPb5-FP",
        "colab_type": "code",
        "colab": {}
      },
      "source": [
        "# gs.fit(dftrain[testCol], dftrain['label'])"
      ],
      "execution_count": 0,
      "outputs": []
    },
    {
      "cell_type": "code",
      "metadata": {
        "id": "k8TnYW5nrsNz",
        "colab_type": "code",
        "colab": {}
      },
      "source": [
        ""
      ],
      "execution_count": 0,
      "outputs": []
    },
    {
      "cell_type": "markdown",
      "metadata": {
        "id": "sUFKZ2Hkrt33",
        "colab_type": "text"
      },
      "source": [
        "#Train Model WIth Best Parameters Optimized by Random Search"
      ]
    },
    {
      "cell_type": "code",
      "metadata": {
        "id": "FrsahrKv3O1i",
        "colab_type": "code",
        "colab": {}
      },
      "source": [
        "# print('Best score reached: {} with params: {} '.format(gs.best_score_, gs.best_params_))"
      ],
      "execution_count": 0,
      "outputs": []
    },
    {
      "cell_type": "code",
      "metadata": {
        "id": "kI_7vxAhzI97",
        "colab_type": "code",
        "colab": {}
      },
      "source": [
        "# bestParams=gs.best_params_"
      ],
      "execution_count": 0,
      "outputs": []
    },
    {
      "cell_type": "markdown",
      "metadata": {
        "id": "lViGr7KC3DbF",
        "colab_type": "text"
      },
      "source": [
        ""
      ]
    },
    {
      "cell_type": "code",
      "metadata": {
        "id": "hxH-AYlUJ9cz",
        "colab_type": "code",
        "colab": {}
      },
      "source": [
        "# bestParams={'random_state': 501, 'objective': 'binary', 'num_leaves': 100, 'n_estimators': 120, 'learning_rate': 0.1, 'colsample_bytree': 0.85, 'boosting_type': 'gbdt'}"
      ],
      "execution_count": 0,
      "outputs": []
    },
    {
      "cell_type": "code",
      "metadata": {
        "id": "rvIcGXRU4ETj",
        "colab_type": "code",
        "colab": {}
      },
      "source": [
        "params={'random_state': 1234, 'objective': 'binary', 'num_leaves': 40, 'n_estimators': 70, 'learning_rate': 0.08, 'colsample_bytree': 0.6, 'boosting_type': 'gbdt'}"
      ],
      "execution_count": 0,
      "outputs": []
    },
    {
      "cell_type": "code",
      "metadata": {
        "id": "XHqXFS2f3amU",
        "colab_type": "code",
        "colab": {}
      },
      "source": [
        "\n",
        "params['min_data'] = 60\n",
        "params['max_depth'] = 40\n",
        "params['min_child_samples']= 50,  \n",
        "params['max_bin']=60,  \n",
        "params['min_child_weight']=0.2,\n",
        "params['feature_fraction']= 0.4,\n",
        "params['bagging_fraction']= 0.25,\n",
        "params['bagging_freq']= 3,\n",
        "params['min_split_gain']=0.1,"
      ],
      "execution_count": 0,
      "outputs": []
    },
    {
      "cell_type": "code",
      "metadata": {
        "id": "yrZXs6Bt6THG",
        "colab_type": "code",
        "colab": {}
      },
      "source": [
        "\n",
        "fit_params={\"early_stopping_rounds\":10000, \n",
        "#              \"evals_result\":evals_result,\n",
        "            \"eval_metric\" : evaluate_macroF1_lgb, \n",
        "            \n",
        "            \"eval_set\" : (dfvalid[testCol],dfvalid['label']),\n",
        "            'eval_names': ['valid'],\n",
        "            #'callbacks': [lgb.reset_parameter(learning_rate=learning_rate_010_decay_power_099)],\n",
        "            'verbose': 1,\n",
        "            'categorical_feature': 'auto'}"
      ],
      "execution_count": 0,
      "outputs": []
    },
    {
      "cell_type": "code",
      "metadata": {
        "id": "nUilNloz5LGw",
        "colab_type": "code",
        "colab": {}
      },
      "source": [
        "mdl = lgb.LGBMClassifier(**params)"
      ],
      "execution_count": 0,
      "outputs": []
    },
    {
      "cell_type": "code",
      "metadata": {
        "id": "o1joxRIS5LJ7",
        "colab_type": "code",
        "outputId": "e3882192-d396-4182-83ce-8300e8bc07a6",
        "colab": {
          "base_uri": "https://localhost:8080/",
          "height": 1000
        }
      },
      "source": [
        "\n",
        "mdl.fit(dftrain[testCol],dftrain['label'],**fit_params)"
      ],
      "execution_count": 54,
      "outputs": [
        {
          "output_type": "stream",
          "text": [
            "[1]\tvalid's binary_logloss: 0.619804\tvalid's macroF1: 0.7311\n",
            "Training until validation scores don't improve for 10000 rounds.\n",
            "[2]\tvalid's binary_logloss: 0.567854\tvalid's macroF1: 0.911271\n",
            "[3]\tvalid's binary_logloss: 0.521886\tvalid's macroF1: 0.948298\n",
            "[4]\tvalid's binary_logloss: 0.481015\tvalid's macroF1: 0.951777\n",
            "[5]\tvalid's binary_logloss: 0.44634\tvalid's macroF1: 0.953368\n",
            "[6]\tvalid's binary_logloss: 0.41537\tvalid's macroF1: 0.953368\n",
            "[7]\tvalid's binary_logloss: 0.389038\tvalid's macroF1: 0.953247\n",
            "[8]\tvalid's binary_logloss: 0.365893\tvalid's macroF1: 0.95201\n",
            "[9]\tvalid's binary_logloss: 0.345308\tvalid's macroF1: 0.952135\n",
            "[10]\tvalid's binary_logloss: 0.325661\tvalid's macroF1: 0.950777\n",
            "[11]\tvalid's binary_logloss: 0.308162\tvalid's macroF1: 0.949416\n",
            "[12]\tvalid's binary_logloss: 0.292653\tvalid's macroF1: 0.949416\n",
            "[13]\tvalid's binary_logloss: 0.278473\tvalid's macroF1: 0.949416\n",
            "[14]\tvalid's binary_logloss: 0.266012\tvalid's macroF1: 0.951886\n",
            "[15]\tvalid's binary_logloss: 0.254741\tvalid's macroF1: 0.954604\n",
            "[16]\tvalid's binary_logloss: 0.244326\tvalid's macroF1: 0.954604\n",
            "[17]\tvalid's binary_logloss: 0.234718\tvalid's macroF1: 0.954604\n",
            "[18]\tvalid's binary_logloss: 0.225579\tvalid's macroF1: 0.953247\n",
            "[19]\tvalid's binary_logloss: 0.217284\tvalid's macroF1: 0.950649\n",
            "[20]\tvalid's binary_logloss: 0.209832\tvalid's macroF1: 0.950649\n",
            "[21]\tvalid's binary_logloss: 0.203295\tvalid's macroF1: 0.950649\n",
            "[22]\tvalid's binary_logloss: 0.196713\tvalid's macroF1: 0.950649\n",
            "[23]\tvalid's binary_logloss: 0.190971\tvalid's macroF1: 0.950649\n",
            "[24]\tvalid's binary_logloss: 0.185869\tvalid's macroF1: 0.950649\n",
            "[25]\tvalid's binary_logloss: 0.18119\tvalid's macroF1: 0.950649\n",
            "[26]\tvalid's binary_logloss: 0.177423\tvalid's macroF1: 0.950649\n",
            "[27]\tvalid's binary_logloss: 0.173658\tvalid's macroF1: 0.950649\n",
            "[28]\tvalid's binary_logloss: 0.169982\tvalid's macroF1: 0.949285\n",
            "[29]\tvalid's binary_logloss: 0.166907\tvalid's macroF1: 0.949285\n",
            "[30]\tvalid's binary_logloss: 0.164216\tvalid's macroF1: 0.950521\n",
            "[31]\tvalid's binary_logloss: 0.162371\tvalid's macroF1: 0.949285\n",
            "[32]\tvalid's binary_logloss: 0.159777\tvalid's macroF1: 0.949285\n",
            "[33]\tvalid's binary_logloss: 0.157924\tvalid's macroF1: 0.949285\n",
            "[34]\tvalid's binary_logloss: 0.157271\tvalid's macroF1: 0.949285\n",
            "[35]\tvalid's binary_logloss: 0.156206\tvalid's macroF1: 0.948052\n",
            "[36]\tvalid's binary_logloss: 0.15491\tvalid's macroF1: 0.948052\n",
            "[37]\tvalid's binary_logloss: 0.152832\tvalid's macroF1: 0.948052\n",
            "[38]\tvalid's binary_logloss: 0.151692\tvalid's macroF1: 0.948052\n",
            "[39]\tvalid's binary_logloss: 0.150561\tvalid's macroF1: 0.948052\n",
            "[40]\tvalid's binary_logloss: 0.148862\tvalid's macroF1: 0.948052\n",
            "[41]\tvalid's binary_logloss: 0.146911\tvalid's macroF1: 0.948052\n",
            "[42]\tvalid's binary_logloss: 0.145178\tvalid's macroF1: 0.949285\n",
            "[43]\tvalid's binary_logloss: 0.143695\tvalid's macroF1: 0.950521\n",
            "[44]\tvalid's binary_logloss: 0.142592\tvalid's macroF1: 0.950521\n",
            "[45]\tvalid's binary_logloss: 0.141129\tvalid's macroF1: 0.95176\n",
            "[46]\tvalid's binary_logloss: 0.141462\tvalid's macroF1: 0.950521\n",
            "[47]\tvalid's binary_logloss: 0.140566\tvalid's macroF1: 0.950521\n",
            "[48]\tvalid's binary_logloss: 0.14063\tvalid's macroF1: 0.950521\n",
            "[49]\tvalid's binary_logloss: 0.140114\tvalid's macroF1: 0.95176\n",
            "[50]\tvalid's binary_logloss: 0.139091\tvalid's macroF1: 0.950521\n",
            "[51]\tvalid's binary_logloss: 0.138964\tvalid's macroF1: 0.949285\n",
            "[52]\tvalid's binary_logloss: 0.139847\tvalid's macroF1: 0.950392\n",
            "[53]\tvalid's binary_logloss: 0.140942\tvalid's macroF1: 0.950392\n",
            "[54]\tvalid's binary_logloss: 0.141761\tvalid's macroF1: 0.950392\n",
            "[55]\tvalid's binary_logloss: 0.142442\tvalid's macroF1: 0.949153\n",
            "[56]\tvalid's binary_logloss: 0.142793\tvalid's macroF1: 0.949285\n",
            "[57]\tvalid's binary_logloss: 0.143322\tvalid's macroF1: 0.949285\n",
            "[58]\tvalid's binary_logloss: 0.143927\tvalid's macroF1: 0.948052\n",
            "[59]\tvalid's binary_logloss: 0.144307\tvalid's macroF1: 0.948052\n",
            "[60]\tvalid's binary_logloss: 0.144319\tvalid's macroF1: 0.948052\n",
            "[61]\tvalid's binary_logloss: 0.143872\tvalid's macroF1: 0.948052\n",
            "[62]\tvalid's binary_logloss: 0.143961\tvalid's macroF1: 0.948052\n",
            "[63]\tvalid's binary_logloss: 0.143658\tvalid's macroF1: 0.949285\n",
            "[64]\tvalid's binary_logloss: 0.144683\tvalid's macroF1: 0.947917\n",
            "[65]\tvalid's binary_logloss: 0.145462\tvalid's macroF1: 0.947917\n",
            "[66]\tvalid's binary_logloss: 0.146858\tvalid's macroF1: 0.948052\n",
            "[67]\tvalid's binary_logloss: 0.145539\tvalid's macroF1: 0.947917\n",
            "[68]\tvalid's binary_logloss: 0.14486\tvalid's macroF1: 0.949153\n",
            "[69]\tvalid's binary_logloss: 0.143646\tvalid's macroF1: 0.949153\n",
            "[70]\tvalid's binary_logloss: 0.143037\tvalid's macroF1: 0.949153\n",
            "Did not meet early stopping. Best iteration is:\n",
            "[51]\tvalid's binary_logloss: 0.138964\tvalid's macroF1: 0.949285\n"
          ],
          "name": "stdout"
        },
        {
          "output_type": "execute_result",
          "data": {
            "text/plain": [
              "LGBMClassifier(bagging_fraction=(0.25,), bagging_freq=(3,),\n",
              "               boosting_type='gbdt', class_weight=None, colsample_bytree=0.6,\n",
              "               feature_fraction=(0.4,), importance_type='split',\n",
              "               learning_rate=0.08, max_bin=(60,), max_depth=40,\n",
              "               min_child_samples=(50,), min_child_weight=(0.2,), min_data=60,\n",
              "               min_split_gain=(0.1,), n_estimators=70, n_jobs=-1, num_leaves=40,\n",
              "               objective='binary', random_state=1234, reg_alpha=0.0,\n",
              "               reg_lambda=0.0, silent=True, subsample=1.0,\n",
              "               subsample_for_bin=200000, subsample_freq=0)"
            ]
          },
          "metadata": {
            "tags": []
          },
          "execution_count": 54
        }
      ]
    },
    {
      "cell_type": "code",
      "metadata": {
        "id": "_sBFbnQPXWlj",
        "colab_type": "code",
        "colab": {}
      },
      "source": [
        "lab=dftest['label']"
      ],
      "execution_count": 0,
      "outputs": []
    },
    {
      "cell_type": "code",
      "metadata": {
        "id": "_r7Lmz_OXy2d",
        "colab_type": "code",
        "colab": {}
      },
      "source": [
        "dftest1=dftest.drop('label',axis=1)"
      ],
      "execution_count": 0,
      "outputs": []
    },
    {
      "cell_type": "markdown",
      "metadata": {
        "id": "m2Rq1FJ-OuS3",
        "colab_type": "text"
      },
      "source": [
        ""
      ]
    },
    {
      "cell_type": "code",
      "metadata": {
        "id": "X7_DzRm2Tb8B",
        "colab_type": "code",
        "colab": {}
      },
      "source": [
        "\n",
        "y_pred=mdl.predict(dftest1)"
      ],
      "execution_count": 0,
      "outputs": []
    },
    {
      "cell_type": "code",
      "metadata": {
        "id": "GcKXwyeHOyAI",
        "colab_type": "code",
        "colab": {
          "base_uri": "https://localhost:8080/",
          "height": 306
        },
        "outputId": "f68d352d-00ba-47ab-f76d-27a7645dd659"
      },
      "source": [
        "y_pred"
      ],
      "execution_count": 58,
      "outputs": [
        {
          "output_type": "execute_result",
          "data": {
            "text/plain": [
              "array([0, 0, 1, 1, 1, 0, 0, 0, 1, 1, 0, 0, 0, 1, 0, 0, 1, 1, 1, 1, 0, 1,\n",
              "       1, 0, 1, 1, 1, 1, 0, 0, 0, 1, 0, 0, 1, 1, 0, 0, 1, 0, 1, 1, 1, 0,\n",
              "       1, 1, 1, 1, 1, 1, 1, 1, 0, 1, 1, 1, 1, 0, 1, 0, 0, 1, 1, 0, 0, 0,\n",
              "       1, 1, 1, 1, 0, 1, 1, 1, 1, 1, 0, 0, 1, 1, 0, 1, 1, 0, 1, 0, 1, 1,\n",
              "       1, 0, 1, 0, 1, 0, 0, 1, 1, 0, 1, 1, 0, 0, 0, 1, 1, 0, 1, 1, 0, 0,\n",
              "       0, 1, 1, 1, 0, 1, 0, 1, 1, 0, 1, 1, 1, 1, 0, 0, 0, 1, 1, 1, 1, 1,\n",
              "       0, 0, 1, 0, 1, 0, 1, 1, 1, 1, 1, 0, 1, 0, 0, 1, 1, 1, 0, 1, 1, 0,\n",
              "       1, 0, 0, 1, 0, 1, 1, 0, 1, 0, 1, 1, 1, 1, 1, 1, 0, 1, 1, 1, 0, 0,\n",
              "       1, 0, 1, 1, 0, 0, 1, 1, 0, 1, 0, 0, 1, 0, 1, 1, 1, 1, 1, 0, 0, 1,\n",
              "       0, 1, 0, 1, 1, 0, 1, 1, 1, 0, 0, 0, 1, 0, 0, 0, 0, 1, 0, 1, 0, 1,\n",
              "       0, 0, 0, 1, 0, 0, 1, 1, 1, 0, 1, 0, 1, 0, 1, 1, 0, 0, 0, 1, 0, 0,\n",
              "       0, 0, 0, 0, 0, 1, 1, 1, 1, 0, 1, 1, 0, 0, 1, 1, 1, 1, 0, 0, 0, 1,\n",
              "       1, 0, 0, 1, 1, 1, 1, 0, 1, 1, 1, 1, 0, 0, 0, 0, 1, 1, 1, 1, 1, 1,\n",
              "       0, 0, 1, 1, 1, 1, 0, 1, 1, 0, 0, 0, 0, 0, 1, 0, 1, 0, 1, 1, 1, 0,\n",
              "       0, 0, 1, 1, 1, 1, 1, 0, 0, 1, 1, 1, 0, 0, 1, 0, 1, 1, 0, 1, 1, 0,\n",
              "       0, 1, 1, 0, 1, 1, 0, 1, 1, 0, 1, 0, 0, 1, 1, 0, 1, 1, 1, 1, 0, 1,\n",
              "       0, 0, 1, 0, 1, 0, 1, 1, 1, 0, 1, 1, 1, 1, 1, 1])"
            ]
          },
          "metadata": {
            "tags": []
          },
          "execution_count": 58
        }
      ]
    },
    {
      "cell_type": "code",
      "metadata": {
        "id": "zEkyAHZmYUyd",
        "colab_type": "code",
        "colab": {}
      },
      "source": [
        "for i in range(len(y_pred)):\n",
        "    if y_pred[i]>=.6:       # setting threshold to .5\n",
        "       y_pred[i]=1\n",
        "    else:  \n",
        "       y_pred[i]=0"
      ],
      "execution_count": 0,
      "outputs": []
    },
    {
      "cell_type": "code",
      "metadata": {
        "id": "MhpW9YqVQtr3",
        "colab_type": "code",
        "outputId": "4de83ac9-079e-420f-b4e2-b100f8b1c96b",
        "colab": {
          "base_uri": "https://localhost:8080/",
          "height": 68
        }
      },
      "source": [
        "from sklearn.metrics import confusion_matrix\n",
        "cm = confusion_matrix(lab, y_pred)\n",
        "#Accuracy\n",
        "from sklearn.metrics import accuracy_score\n",
        "accuracy=accuracy_score(y_pred,lab)\n",
        "print(accuracy)\n",
        "print(cm)"
      ],
      "execution_count": 60,
      "outputs": [
        {
          "output_type": "stream",
          "text": [
            "0.9592391304347826\n",
            "[[145   6]\n",
            " [  9 208]]\n"
          ],
          "name": "stdout"
        }
      ]
    },
    {
      "cell_type": "markdown",
      "metadata": {
        "id": "i84zIAKpkZaY",
        "colab_type": "text"
      },
      "source": [
        "Calculating Values according to\n",
        "$$ Recall = \\frac{TruePositive}{TruePositive+False Nagitive}=0.9705215419501134\n",
        "$$ Precision = \\frac{TruePositive}{TruePositive+FalsePositive}$$\n",
        "$$F1 = \\frac{2 \\cdot precision\\cdot recall}{precision+ recall}$$"
      ]
    },
    {
      "cell_type": "code",
      "metadata": {
        "id": "XJmuzKEJSO-A",
        "colab_type": "code",
        "outputId": "1ad9bc9c-efce-433d-c097-4faa30b6de5c",
        "colab": {
          "base_uri": "https://localhost:8080/",
          "height": 51
        }
      },
      "source": [
        "conf=cm\n",
        "TrueNagitive=conf[0][0]\n",
        "FalseNegative=conf[0][1]\n",
        "TruePositive=conf[1][1]\n",
        "FalsePositive=conf[1][0]\n",
        "recal=TruePositive/(TruePositive+FalseNegative)\n",
        "precision=TruePositive/(TruePositive+FalsePositive)\n",
        "print(\"Precision of Model =\",precision,\"Recall of Model \", recal)\n",
        "f1=2*((precision*recal)/(precision+recal))\n",
        "print('F1 Score of Model =',f1)"
      ],
      "execution_count": 61,
      "outputs": [
        {
          "output_type": "stream",
          "text": [
            "Precision of Model = 0.9585253456221198 Recall of Model  0.9719626168224299\n",
            "F1 Score of Model = 0.9651972157772621\n"
          ],
          "name": "stdout"
        }
      ]
    },
    {
      "cell_type": "markdown",
      "metadata": {
        "id": "-RoQEdC6r-gp",
        "colab_type": "text"
      },
      "source": [
        "Learning Curves"
      ]
    },
    {
      "cell_type": "code",
      "metadata": {
        "id": "i59-4YRXA2o7",
        "colab_type": "code",
        "outputId": "54deac9f-91c4-4656-d7d0-7bdddf0c2a43",
        "colab": {
          "base_uri": "https://localhost:8080/",
          "height": 34
        }
      },
      "source": [
        "print(__doc__)\n",
        "\n",
        "import numpy as np\n",
        "import matplotlib.pyplot as plt\n",
        "from sklearn.model_selection import learning_curve\n",
        "from sklearn.model_selection import ShuffleSplit\n",
        "\n",
        "\n",
        "def plot_learning_curve(estimator, title, X, y, ylim=None, cv=None,\n",
        "                        n_jobs=None, train_sizes=np.linspace(.1, 1.0, 5)):\n",
        "    \"\"\"\n",
        "    Generate a simple plot of the test and training learning curve.\n",
        "\n",
        "    Parameters\n",
        "    ----------\n",
        "    estimator : object type that implements the \"fit\" and \"predict\" methods\n",
        "        An object of that type which is cloned for each validation.\n",
        "\n",
        "    title : string\n",
        "        Title for the chart.\n",
        "\n",
        "    X : array-like, shape (n_samples, n_features)\n",
        "        Training vector, where n_samples is the number of samples and\n",
        "        n_features is the number of features.\n",
        "\n",
        "    y : array-like, shape (n_samples) or (n_samples, n_features), optional\n",
        "        Target relative to X for classification or regression;\n",
        "        None for unsupervised learning.\n",
        "\n",
        "    ylim : tuple, shape (ymin, ymax), optional\n",
        "        Defines minimum and maximum yvalues plotted.\n",
        "\n",
        "    cv : int, cross-validation generator or an iterable, optional\n",
        "        Determines the cross-validation splitting strategy.\n",
        "        Possible inputs for cv are:\n",
        "          - None, to use the default 3-fold cross-validation,\n",
        "          - integer, to specify the number of folds.\n",
        "          - :term:`CV splitter`,\n",
        "          - An iterable yielding (train, test) splits as arrays of indices.\n",
        "\n",
        "        For integer/None inputs, if ``y`` is binary or multiclass,\n",
        "        :class:`StratifiedKFold` used. If the estimator is not a classifier\n",
        "        or if ``y`` is neither binary nor multiclass, :class:`KFold` is used.\n",
        "\n",
        "        Refer :ref:`User Guide <cross_validation>` for the various\n",
        "        cross-validators that can be used here.\n",
        "\n",
        "    n_jobs : int or None, optional (default=None)\n",
        "        Number of jobs to run in parallel.\n",
        "        ``None`` means 1 unless in a :obj:`joblib.parallel_backend` context.\n",
        "        ``-1`` means using all processors. See :term:`Glossary <n_jobs>`\n",
        "        for more details.\n",
        "\n",
        "    train_sizes : array-like, shape (n_ticks,), dtype float or int\n",
        "        Relative or absolute numbers of training examples that will be used to\n",
        "        generate the learning curve. If the dtype is float, it is regarded as a\n",
        "        fraction of the maximum size of the training set (that is determined\n",
        "        by the selected validation method), i.e. it has to be within (0, 1].\n",
        "        Otherwise it is interpreted as absolute sizes of the training sets.\n",
        "        Note that for classification the number of samples usually have to\n",
        "        be big enough to contain at least one sample from each class.\n",
        "        (default: np.linspace(0.1, 1.0, 5))\n",
        "    \"\"\"\n",
        "    plt.figure()\n",
        "    plt.title(title)\n",
        "    if ylim is not None:\n",
        "        plt.ylim(*ylim)\n",
        "    plt.xlabel(\"Training examples\")\n",
        "    plt.ylabel(\"Score\")\n",
        "    train_sizes, train_scores, test_scores = learning_curve(\n",
        "        estimator, X, y, cv=cv, n_jobs=n_jobs, train_sizes=train_sizes)\n",
        "    train_scores_mean = np.mean(train_scores, axis=1)\n",
        "    train_scores_std = np.std(train_scores, axis=1)\n",
        "    test_scores_mean = np.mean(test_scores, axis=1)\n",
        "    test_scores_std = np.std(test_scores, axis=1)\n",
        "    plt.grid()\n",
        "\n",
        "    plt.fill_between(train_sizes, train_scores_mean - train_scores_std,\n",
        "                     train_scores_mean + train_scores_std, alpha=0.1,\n",
        "                     color=\"r\")\n",
        "    plt.fill_between(train_sizes, test_scores_mean - test_scores_std,\n",
        "                     test_scores_mean + test_scores_std, alpha=0.1, color=\"g\")\n",
        "    plt.plot(train_sizes, train_scores_mean,\n",
        "             label=\"Training score\")\n",
        "    plt.plot(train_sizes, test_scores_mean, \n",
        "             label=\"Validation\")\n",
        "\n",
        "    plt.legend(loc=\"best\")\n",
        "    return plt\n",
        "\n",
        "\n",
        "\n",
        "\n"
      ],
      "execution_count": 66,
      "outputs": [
        {
          "output_type": "stream",
          "text": [
            "Automatically created module for IPython interactive environment\n"
          ],
          "name": "stdout"
        }
      ]
    },
    {
      "cell_type": "code",
      "metadata": {
        "id": "HEHhPk8WAk6G",
        "colab_type": "code",
        "colab": {
          "base_uri": "https://localhost:8080/",
          "height": 295
        },
        "outputId": "3f68bda0-7973-4517-d472-0c79bcc4134c"
      },
      "source": [
        "\n",
        "title = \"Light GBM Learning Curve Resnet18 Features\"\n",
        "# Cross validation with 100 iterations to get smoother mean test and train\n",
        "# score curves, each time with 20% data randomly selected as a validation set.\n",
        "cv = ShuffleSplit(n_splits=10, test_size=0.1, random_state=42)\n",
        "plot_learning_curve(mdl, title, dataset[testCol],dataset['label'], ylim=(0.7, 1.01), cv=cv, n_jobs=4)\n",
        "plt.show()"
      ],
      "execution_count": 67,
      "outputs": [
        {
          "output_type": "display_data",
          "data": {
            "image/png": "[encoded data removed]",
            "text/plain": [
              "<Figure size 432x288 with 1 Axes>"
            ]
          },
          "metadata": {
            "tags": []
          }
        }
      ]
    }
  ]
}